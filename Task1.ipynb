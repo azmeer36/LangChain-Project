{
 "cells": [
  {
   "cell_type": "markdown",
   "metadata": {},
   "source": [
    "LANG CHAIN PROJECT\n",
    "SOCIAL MEDIA POST GENERATOR"
   ]
  },
  {
   "cell_type": "code",
   "execution_count": 8,
   "metadata": {},
   "outputs": [],
   "source": [
    "import langchain"
   ]
  },
  {
   "cell_type": "code",
   "execution_count": 9,
   "metadata": {},
   "outputs": [],
   "source": [
    "import os\n",
    "os.environ[\"OPENAI_API_KEY\"] = \"sk-proj-vObIlxMZF7v6A5CrHsLoT3BlbkFJLh4uyuMFXJmEQ9dsyAvu\""
   ]
  },
  {
   "cell_type": "markdown",
   "metadata": {},
   "source": [
    "USING ZERO SHOT"
   ]
  },
  {
   "cell_type": "code",
   "execution_count": 32,
   "metadata": {},
   "outputs": [
    {
     "data": {
      "text/plain": [
       "'I want you to generate a social media post on the following topic Mental Health.'"
      ]
     },
     "execution_count": 32,
     "metadata": {},
     "output_type": "execute_result"
    }
   ],
   "source": [
    "from langchain import PromptTemplate\n",
    "\n",
    "demo_template='''I want you to generate a social media post on the following topic {topic}.'''\n",
    "\n",
    "prompt=PromptTemplate(\n",
    "    input_variables=['topic'],\n",
    "    template=demo_template\n",
    "    )\n",
    "\n",
    "prompt.format(topic='Mental Health')"
   ]
  },
  {
   "cell_type": "code",
   "execution_count": 33,
   "metadata": {},
   "outputs": [],
   "source": [
    "from langchain.llms import OpenAI\n",
    "from langchain.chains import LLMChain\n",
    "\n",
    "llm=OpenAI(temperature=0.7)\n",
    "chain1=LLMChain(llm=llm,prompt=prompt)"
   ]
  },
  {
   "cell_type": "code",
   "execution_count": 34,
   "metadata": {},
   "outputs": [
    {
     "data": {
      "text/plain": [
       "{'topic': 'Mental Health',\n",
       " 'text': '\\n\\n\"Let\\'s break the stigma surrounding mental health and start the conversation. It\\'s okay to not be okay and seeking help is a sign of strength. Let\\'s support each other and prioritize our mental well-being. #MentalHealthAwareness #EndTheStigma\"'}"
      ]
     },
     "execution_count": 34,
     "metadata": {},
     "output_type": "execute_result"
    }
   ],
   "source": [
    "chain1.invoke('Mental Health')"
   ]
  },
  {
   "cell_type": "code",
   "execution_count": 36,
   "metadata": {},
   "outputs": [],
   "source": [
    "\n",
    "\n",
    "from langchain import PromptTemplate\n",
    "\n"
   ]
  },
  {
   "cell_type": "markdown",
   "metadata": {},
   "source": [
    "USING ONE_SHOT A SOCIAL MEDIA EXAMPLE"
   ]
  },
  {
   "cell_type": "code",
   "execution_count": 38,
   "metadata": {},
   "outputs": [],
   "source": [
    "from langchain import PromptTemplate, FewShotPromptTemplate\n",
    "\n",
    "# First, create the list of few shot examples.\n",
    "examples = [\n",
    "    {\"question1\": \"Can you describe the specific case study or transformation story you want to share?\",\n",
    "     \"answer1\": \"successful collaboration between Sodexo and CoachHub to accelerate leadership development across the APMEA region.\",\n",
    "     \n",
    "     \"question2\": \"What challenge or problem was addressed in this case?\",\n",
    "     \"answer2\": \"The challenge addressed in this case was the need for scalable leadership development programs that could effectively engage and develop employees across diverse geographic regions, particularly in the Asia Pacific, Middle East, and Africa (APMEA).\",\n",
    "     \n",
    "     \"question3\": \"What were the key results or outcomes achieved in this story?\",\n",
    "     \"answer3\": \"The key results achieved in this story include the implementation of scalable coaching programs powered by AI and analytics, which led to improved knowledge retention, enhanced leadership skills, and increased employee engagement across the APMEA region.\",\n",
    "     \n",
    "     \"question4\": \"Are there any data, quotes, or testimonials that illustrate the impact?\",\n",
    "     \"answer4\": \"75 % of classroom-style training is forgotten if it's not implemented within 6 days after.\",\n",
    "     \n",
    "     \"question5\": \"Is there a specific call-to-action?\",\n",
    "     \"answer5\": \"Join thousands of coachees like Sodexo's Head of FMCG Accounts, Jean Baptiste CALEMARD, on a journey of growth and transformation to explore the greater you.\",\n",
    "     \n",
    "     \"question6\": \"Are there any specific hashtags you’d like to include?\",\n",
    "     \"answer6\": \"#ExploreTheGreaterYou: https://bit.ly/3LMxIHg\",\n",
    "     \n",
    "     \"question7\": \"Describe your desired tone and style.\",\n",
    "     \"answer7\": \"professional and make sure to write the achievements in the form of points.\",\n",
    "     \n",
    "     \"social_media_post\": \"\"\"Did you know? 75% of classroom-style training is forgotten if it's not implemented within 6 days after.\n",
    "        Discover how Sodexo, a world leader in facilities management and food services, joined forces with CoachHub to accelerate their leadership development across APMEA:\n",
    "        🚀 Scalable coaching programs powered by AI and analytics with local support\n",
    "        🌎 Access to a diverse pool of 3,500 top certified coaches from around the world\n",
    "        🌟 Unlimited, structured coaching sessions and flexibility 24/7 for a hybrid, mobile workforce\n",
    "        🧠 Boost knowledge retention and engagement with global benchmarking\n",
    "        ✅ Quick implementation with low administrative burden\n",
    "        Join thousands of coachees like Sodexo's Head of FMCG Accounts, Jean Baptiste\n",
    "        CALEMARD, on a journey of growth and transformation to #ExploreTheGreaterYou:\n",
    "        https://bit.ly/3LMxIHg\"\"\"\n",
    "     \n",
    "    }\n",
    "    \n",
    "]\n",
    "\n",
    "# Next, we specify the template to format the examples we have provided.\n",
    "# We use the `PromptTemplate` class for this.\n",
    "example_formatter_template = \"\"\"Question 1: {question1}\n",
    "\n",
    "Answer 1: {answer1}\n",
    "\n",
    "Question 2: {question2}\n",
    "\n",
    "Answer 2: {answer2}\n",
    "\n",
    "Question 3: {question3}\n",
    "\n",
    "Answer 3: {answer3}\n",
    "\n",
    "Question 4: {question4}\n",
    "\n",
    "Answer 4: {answer4}\n",
    "\n",
    "Question 5: {question5}\n",
    "\n",
    "Answer 5: {answer5}\n",
    "\n",
    "Question 6: {question6}\n",
    "\n",
    "Answer 6: {answer6}\n",
    "\n",
    "Question 7: {question7}\n",
    "\n",
    "Answer 7: {answer7}\n",
    "\n",
    "Social Media Post: {social_media_post}\n",
    "\"\"\"\n",
    "\n",
    "example_prompt = PromptTemplate(\n",
    "    input_variables=[\"question1\", \"answer1\", \"question2\", \"answer2\", \"question3\", \"answer3\", \"question4\", \"answer4\", \"question5\", \"answer5\", \"question6\", \"answer6\", \"question7\", \"answer7\", \"social_media_post\"],\n",
    "    template=example_formatter_template,\n",
    ")"
   ]
  },
  {
   "cell_type": "code",
   "execution_count": 40,
   "metadata": {},
   "outputs": [],
   "source": [
    "# Finally, we create the `FewShotPromptTemplate` object.\n",
    "few_shot_prompt = FewShotPromptTemplate(\n",
    "    # These are the examples we want to insert into the prompt.\n",
    "    examples=examples,\n",
    "    # This is how we want to format the examples when we insert them into the prompt.\n",
    "    example_prompt=example_prompt,\n",
    "    # The prefix is some text that goes before the examples in the prompt.\n",
    "    # Usually, this consists of intructions.\n",
    "    prefix=\"Utilizing the series of questions and answers below create a social media post in the tone and style provided\\n\",\n",
    "    # The suffix is some text that goes after the examples in the prompt.\n",
    "    # Usually, this is where the user input will go\n",
    "    suffix=\"\"\" Question 1: Can you describe the specific case study or transformation story you want to share? \n",
    "\n",
    "    Answer 1: {input1}\n",
    "\n",
    "    Question 2: What challenge or problem was addressed in this case?\n",
    "\n",
    "    Answer 2: {input2}\n",
    "\n",
    "    Question 3: What were the key results or outcomes achieved in this story?\n",
    "\n",
    "    Answer 3: {input3}\n",
    "\n",
    "    Question 4: Are there any data, quotes, or testimonials that illustrate the impact?\n",
    "\n",
    "    Answer 4: {input4}\n",
    "\n",
    "    Question 5: Is there a specific call-to-action?\n",
    "\n",
    "    Answer 5: {input5}\n",
    "\n",
    "    Question 6: Are there any specific hashtags you’d like to include?\n",
    "\n",
    "    Answer 6: {input6}\n",
    "\n",
    "    Question 7: Describe your desired tone and style.\n",
    "\n",
    "    Answer 7: {input7}\n",
    "\n",
    "    Social Media Post: \n",
    "        \n",
    "    \"\"\",\n",
    "    # The input variables are the variables that the overall prompt expects.\n",
    "    input_variables=[\"input1\", \"input2\", \"input3\", \"input4\", \"input5\", \"input6\", \"input7\"],\n",
    "    # The example_separator is the string we will use to join the prefix, examples, and suffix together with.\n",
    "    example_separator=\"\\n\",\n",
    ")"
   ]
  },
  {
   "cell_type": "code",
   "execution_count": 41,
   "metadata": {},
   "outputs": [
    {
     "name": "stdout",
     "output_type": "stream",
     "text": [
      "Utilizing the series of questions and answers below create a social media post in the tone and style provided\n",
      "\n",
      "Question 1: Can you describe the specific case study or transformation story you want to share?\n",
      "\n",
      "Answer 1: successful collaboration between Sodexo and CoachHub to accelerate leadership development across the APMEA region.\n",
      "\n",
      "Question 2: What challenge or problem was addressed in this case?\n",
      "\n",
      "Answer 2: The challenge addressed in this case was the need for scalable leadership development programs that could effectively engage and develop employees across diverse geographic regions, particularly in the Asia Pacific, Middle East, and Africa (APMEA).\n",
      "\n",
      "Question 3: What were the key results or outcomes achieved in this story?\n",
      "\n",
      "Answer 3: The key results achieved in this story include the implementation of scalable coaching programs powered by AI and analytics, which led to improved knowledge retention, enhanced leadership skills, and increased employee engagement across the APMEA region.\n",
      "\n",
      "Question 4: Are there any data, quotes, or testimonials that illustrate the impact?\n",
      "\n",
      "Answer 4: 75 % of classroom-style training is forgotten if it's not implemented within 6 days after.\n",
      "\n",
      "Question 5: Is there a specific call-to-action?\n",
      "\n",
      "Answer 5: Join thousands of coachees like Sodexo's Head of FMCG Accounts, Jean Baptiste CALEMARD, on a journey of growth and transformation to explore the greater you.\n",
      "\n",
      "Question 6: Are there any specific hashtags you’d like to include?\n",
      "\n",
      "Answer 6: #ExploreTheGreaterYou: https://bit.ly/3LMxIHg\n",
      "\n",
      "Question 7: Describe your desired tone and style.\n",
      "\n",
      "Answer 7: professional and make sure to write the achievements in the form of points.\n",
      "\n",
      "Social Media Post: Did you know? 75% of classroom-style training is forgotten if it's not implemented within 6 days after.\n",
      "        Discover how Sodexo, a world leader in facilities management and food services, joined forces with CoachHub to accelerate their leadership development across APMEA:\n",
      "        🚀 Scalable coaching programs powered by AI and analytics with local support\n",
      "        🌎 Access to a diverse pool of 3,500 top certified coaches from around the world\n",
      "        🌟 Unlimited, structured coaching sessions and flexibility 24/7 for a hybrid, mobile workforce\n",
      "        🧠 Boost knowledge retention and engagement with global benchmarking\n",
      "        ✅ Quick implementation with low administrative burden\n",
      "        Join thousands of coachees like Sodexo's Head of FMCG Accounts, Jean Baptiste\n",
      "        CALEMARD, on a journey of growth and transformation to #ExploreTheGreaterYou:\n",
      "        https://bit.ly/3LMxIHg\n",
      "\n",
      " Question 1: Can you describe the specific case study or transformation story you want to share? \n",
      "\n",
      "    Answer 1: A successful partnership between TechX and MindfulMinds to revolutionize mental health support in the workplace.\n",
      "\n",
      "    Question 2: What challenge or problem was addressed in this case?\n",
      "\n",
      "    Answer 2: The challenge addressed was the need for accessible and effective mental health support for employees, particularly in a tech-driven environment where stress and burnout are prevalent.\n",
      "\n",
      "    Question 3: What were the key results or outcomes achieved in this story?\n",
      "\n",
      "    Answer 3: The key results include the implementation of a comprehensive mental health platform offering personalized coaching, therapy, and resources, leading to reduced absenteeism, improved employee well-being, and increased productivity.\n",
      "\n",
      "    Question 4: Are there any data, quotes, or testimonials that illustrate the impact?\n",
      "\n",
      "    Answer 4: \"Our employees are more engaged, focused, and happier since we implemented MindfulMinds' program.\" - Sarah, HR Manager\n",
      "\n",
      "    Question 5: Is there a specific call-to-action?\n",
      "\n",
      "    Answer 5: Take the first step towards a healthier, happier workplace with TechX and MindfulMinds. Join us in prioritizing mental well-being and fostering a positive work culture.\n",
      "\n",
      "    Question 6: Are there any specific hashtags you’d like to include?\n",
      "\n",
      "    Answer 6: #MentalHealthMatters #WellnessAtWork #TechWellness https://rb.gy/ttc3qc\n",
      "\n",
      "    Question 7: Describe your desired tone and style.\n",
      "\n",
      "    Answer 7: Approachable and informative, focusing on the benefits and solutions provided by the collaboration.\n",
      "\n",
      "    Social Media Post: \n",
      "        \n",
      "    \n"
     ]
    }
   ],
   "source": [
    "print(few_shot_prompt.format(input1='A successful partnership between TechX and MindfulMinds to revolutionize mental health support in the workplace.',\n",
    "                             input2='The challenge addressed was the need for accessible and effective mental health support for employees, particularly in a tech-driven environment where stress and burnout are prevalent.',\n",
    "                             input3='The key results include the implementation of a comprehensive mental health platform offering personalized coaching, therapy, and resources, leading to reduced absenteeism, improved employee well-being, and increased productivity.',\n",
    "                             input4='\\\"Our employees are more engaged, focused, and happier since we implemented MindfulMinds\\' program.\\\" - Sarah, HR Manager',\n",
    "                             input5='Take the first step towards a healthier, happier workplace with TechX and MindfulMinds. Join us in prioritizing mental well-being and fostering a positive work culture.',\n",
    "                             input6='#MentalHealthMatters #WellnessAtWork #TechWellness https://rb.gy/ttc3qc',\n",
    "                             input7='Approachable and informative, focusing on the benefits and solutions provided by the collaboration.'))"
   ]
  },
  {
   "cell_type": "code",
   "execution_count": 42,
   "metadata": {},
   "outputs": [],
   "source": [
    "chain=LLMChain(llm=llm,prompt=few_shot_prompt)\n",
    "generated_post = chain({'input1':\"A successful partnership between TechX and MindfulMinds to revolutionize mental health support in the workplace.\",\n",
    "       'input2':\"The challenge addressed was the need for accessible and effective mental health support for employees, particularly in a tech-driven environment where stress and burnout are prevalent.\",\n",
    "       'input3':\"The key results include the implementation of a comprehensive mental health platform offering personalized coaching, therapy, and resources, leading to reduced absenteeism, improved employee well-being, and increased productivity.\",\n",
    "       'input4':\"\\\"Our employees are more engaged, focused, and happier since we implemented MindfulMinds' program.\\\" - Sarah, HR Manager\",\n",
    "       'input5':\"Take the first step towards a healthier, happier workplace with TechX and MindfulMinds. Join us in prioritizing mental well-being and fostering a positive work culture.\",\n",
    "       'input6':\"#MentalHealthMatters #WellnessAtWork #TechWellness https://rb.gy/ttc3qc\",\n",
    "       'input7':\"Approachable and informative, focusing on the benefits and solutions provided by the collaboration.\"\n",
    "       })"
   ]
  },
  {
   "cell_type": "code",
   "execution_count": 43,
   "metadata": {},
   "outputs": [
    {
     "name": "stdout",
     "output_type": "stream",
     "text": [
      "Attention all tech companies! Are you looking to prioritize mental well-being in the workplace? Look no further. TechX and MindfulMinds have joined forces to revolutionize mental health support in the workplace. 🤝\n",
      "    🔥 Comprehensive platform offering personalized coaching, therapy, and resources\n",
      "    🎯 Reduce absenteeism, improve employee well-being, and increase productivity\n",
      "    💬 \"Our employees are more engaged, focused, and happier since we implemented MindfulMinds' program.\" - Sarah, HR Manager\n",
      "    Take the first step towards a healthier, happier workplace with #MentalHealthMatters and #WellnessAtWork. Let's prioritize mental well-being and foster a positive work culture together. Join us now: https://rb.gy/ttc3qc #TechWellness\n"
     ]
    }
   ],
   "source": [
    "print(generated_post['text'])"
   ]
  }
 ],
 "metadata": {
  "kernelspec": {
   "display_name": "Python 3",
   "language": "python",
   "name": "python3"
  },
  "language_info": {
   "codemirror_mode": {
    "name": "ipython",
    "version": 3
   },
   "file_extension": ".py",
   "mimetype": "text/x-python",
   "name": "python",
   "nbconvert_exporter": "python",
   "pygments_lexer": "ipython3",
   "version": "3.10.2"
  }
 },
 "nbformat": 4,
 "nbformat_minor": 2
}
