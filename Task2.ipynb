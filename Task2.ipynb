{
 "cells": [
  {
   "cell_type": "code",
   "execution_count": 53,
   "metadata": {},
   "outputs": [],
   "source": [
    "import langchain"
   ]
  },
  {
   "cell_type": "code",
   "execution_count": 54,
   "metadata": {},
   "outputs": [
    {
     "name": "stdout",
     "output_type": "stream",
     "text": [
      "sk-proj-LbKwtAS85toGO75GzOCtT3BlbkFJWt45ZRPbAU0lIRppTjDh\n"
     ]
    }
   ],
   "source": [
    "import os\n",
    "from dotenv import load_dotenv\n",
    "os.environ[\"OPENAI_API_KEY\"] = os.getenv(\"OPENAI_API_KEY\")\n",
    "print(os.getenv(\"OPENAI_API_KEY\"))"
   ]
  },
  {
   "cell_type": "code",
   "execution_count": 55,
   "metadata": {},
   "outputs": [],
   "source": [
    "from langchain import PromptTemplate"
   ]
  },
  {
   "cell_type": "code",
   "execution_count": 56,
   "metadata": {},
   "outputs": [],
   "source": [
    "from langchain.llms import OpenAI\n",
    "from langchain.chains import LLMChain\n",
    "\n",
    "llm=OpenAI(temperature=0.7)"
   ]
  },
  {
   "cell_type": "code",
   "execution_count": 57,
   "metadata": {},
   "outputs": [
    {
     "name": "stdout",
     "output_type": "stream",
     "text": [
      "Empty DataFrame\n",
      "Columns: [Name, Field of study, Year of study, List of subjects, Preferred Learning Styles, Personal Objectives, Challenges, Extracurricular activities]\n",
      "Index: []\n"
     ]
    }
   ],
   "source": [
    "import pandas as pd\n",
    "\n",
    "csv_file_path = \"Student Data Rows.csv\"\n",
    "\n",
    "df = pd.read_csv(csv_file_path)\n",
    "\n",
    "print(df.head(0))"
   ]
  },
  {
   "cell_type": "code",
   "execution_count": 58,
   "metadata": {},
   "outputs": [],
   "source": [
    "def split_and_convert_to_list(column):\n",
    "    return column.str.split(',')"
   ]
  },
  {
   "cell_type": "code",
   "execution_count": 59,
   "metadata": {},
   "outputs": [
    {
     "name": "stdout",
     "output_type": "stream",
     "text": [
      "            Name          Field of study Year of study  \\\n",
      "0  Alice Johnson        Computer Science      3rd year   \n",
      "1     David Chen  Electrical Engineering      2nd year   \n",
      "\n",
      "                                    List of subjects  \\\n",
      "0  [Data Structures,  Algorithms,  Database Syste...   \n",
      "1  [Circuit Analysis,  Digital Logic Design ,  El...   \n",
      "\n",
      "  Preferred Learning Styles  \\\n",
      "0       [Visual,  Auditory]   \n",
      "1   [Kinesthetic ,  Visual]   \n",
      "\n",
      "                                 Personal Objectives  \\\n",
      "0  [Develop practical coding skills and understan...   \n",
      "1  [To gain hands-on experience with electrical c...   \n",
      "\n",
      "                                          Challenges  \\\n",
      "0  [Time management ,  balancing coursework with ...   \n",
      "1          [maintaining a healthy work-life balance]   \n",
      "\n",
      "                          Extracurricular activities  \n",
      "0  [Member of the Computer Science Club,  Volunte...  \n",
      "1  [Member of the Robotics Club,  Member of the S...  \n"
     ]
    }
   ],
   "source": [
    "columns_to_split = ['List of subjects', 'Preferred Learning Styles', 'Personal Objectives', 'Challenges', 'Extracurricular activities']\n",
    "for col in columns_to_split:\n",
    "    df[col] = split_and_convert_to_list(df[col])\n",
    "\n",
    "# Display the updated DataFrame\n",
    "print(df)"
   ]
  },
  {
   "cell_type": "code",
   "execution_count": 60,
   "metadata": {},
   "outputs": [],
   "source": [
    "def format_student_details(student_row):\n",
    "    details = []\n",
    "    details.append(f\"Name: {student_row['Name']}\")\n",
    "    details.append(f\"Field of study: {student_row['Field of study']}\")\n",
    "    details.append(f\"Year of study: {student_row['Year of study']}\")\n",
    "    details.append(f\"List of subjects: {', '.join(student_row['List of subjects'])}\")\n",
    "    details.append(f\"Preferred Learning Styles: {', '.join(student_row['Preferred Learning Styles'])}\")\n",
    "    details.append(f\"Personal Objectives: {', '.join(student_row['Personal Objectives'])}\")\n",
    "    details.append(f\"Challenges: {', '.join(student_row['Challenges'])}\")\n",
    "    details.append(f\"Extracurricular activities: {', '.join(student_row['Extracurricular activities'])}\")\n",
    "    return '\\n'.join(details)"
   ]
  },
  {
   "cell_type": "code",
   "execution_count": 61,
   "metadata": {},
   "outputs": [
    {
     "name": "stdout",
     "output_type": "stream",
     "text": [
      "Name: Alice Johnson\n",
      "Field of study: Computer Science\n",
      "Year of study: 3rd year\n",
      "List of subjects: Data Structures,  Algorithms,  Database Systems,  Software Engineering\n",
      "Preferred Learning Styles: Visual,  Auditory\n",
      "Personal Objectives: Develop practical coding skills and understanding of software design principles.\n",
      "Challenges: Time management ,  balancing coursework with part-time job.\n",
      "Extracurricular activities: Member of the Computer Science Club,  Volunteer tutor for coding workshops,  Intramural soccer team player\n"
     ]
    }
   ],
   "source": [
    "student_row = df[df['Name'] == 'Alice Johnson'].iloc[0]\n",
    "student_details_temp = format_student_details(student_row)\n",
    "print(student_details_temp)"
   ]
  },
  {
   "cell_type": "code",
   "execution_count": 62,
   "metadata": {},
   "outputs": [],
   "source": [
    "demo_template= \"\"\"I want you to create a study plan for a specific student using the details given below. The study plan not only addresses academic requirements but also aligns with each\n",
    "student's unique needs and aspirations. \\n\n",
    "\n",
    "\\n\n",
    "Please create a study plan for the following student:\n",
    "{student_details}\n",
    "\n",
    "Instructions:\n",
    "\n",
    "1)Based on the provided student data, create a weekly (Monday , Tuesday , Wednesday , Thursday, Friday, Saturday , Sunday) timetable that optimally allocates time for study, revision, and other activities.\n",
    "2)Consider the student's field of study, year of study, list of subjects, preferred learning styles, personal objectives, challenges, and extracurricular activities when designing the timetable.\n",
    "3)Ensure a balanced distribution of time across subjects, taking into account the student's preferences and challenges.\n",
    "4)Incorporate study techniques that align with the student's preferred learning styles to enhance effectiveness.\n",
    "5)Allocate specific time slots for extracurricular activities, relaxation, and other personal commitments to maintain a healthy work-life balance.\n",
    "6)Aim to create a timetable that promotes productivity, motivation, and overall well-being for the student.\n",
    "\\n\n",
    "\n",
    "STUDY PLAN: \\n\n",
    "\n",
    "\n",
    "\"\"\"\n"
   ]
  },
  {
   "cell_type": "code",
   "execution_count": 63,
   "metadata": {},
   "outputs": [
    {
     "data": {
      "text/plain": [
       "\"I want you to create a study plan for a specific student using the details given below. The study plan not only addresses academic requirements but also aligns with each\\nstudent's unique needs and aspirations. \\n\\n\\n\\n\\nPlease create a study plan for the following student:\\nName: David Chen\\nField of study: Electrical Engineering\\nYear of study: 2nd year\\nList of subjects: Circuit Analysis,  Digital Logic Design ,  Electromagnetics, Signal Processing\\nPreferred Learning Styles: Kinesthetic ,  Visual\\nPersonal Objectives: To gain hands-on experience with electrical circuits and systems,  Get Fit and Healthy\\nChallenges: maintaining a healthy work-life balance\\nExtracurricular activities: Member of the Robotics Club,  Member of the Swimming Team\\n\\nInstructions:\\n\\n1)Based on the provided student data, create a weekly (Monday , Tuesday , Wednesday , Thursday, Friday, Saturday , Sunday) timetable that optimally allocates time for study, revision, and other activities.\\n2)Consider the student's field of study, year of study, list of subjects, preferred learning styles, personal objectives, challenges, and extracurricular activities when designing the timetable.\\n3)Ensure a balanced distribution of time across subjects, taking into account the student's preferences and challenges.\\n4)Incorporate study techniques that align with the student's preferred learning styles to enhance effectiveness.\\n5)Allocate specific time slots for extracurricular activities, relaxation, and other personal commitments to maintain a healthy work-life balance.\\n6)Aim to create a timetable that promotes productivity, motivation, and overall well-being for the student.\\n\\n\\n\\nSTUDY PLAN: \\n\\n\\n\\n\""
      ]
     },
     "execution_count": 63,
     "metadata": {},
     "output_type": "execute_result"
    }
   ],
   "source": [
    "\n",
    "prompt=PromptTemplate(\n",
    "    input_variables=['student_details'],\n",
    "    template=demo_template\n",
    "    )\n",
    "\n",
    "\n",
    "student_row = df[df['Name'] == 'David Chen'].iloc[0]\n",
    "student1_details = format_student_details(student_row)\n",
    "\n",
    "prompt.format(student_details= student1_details  )"
   ]
  },
  {
   "cell_type": "code",
   "execution_count": 64,
   "metadata": {},
   "outputs": [
    {
     "name": "stdout",
     "output_type": "stream",
     "text": [
      "Monday:\n",
      "\n",
      "9:00 AM - 10:30 AM: Circuit Analysis (Kinesthetic learning - hands-on activities and experiments)\n",
      "10:30 AM - 12:00 PM: Digital Logic Design (Visual learning - creating diagrams and flowcharts)\n",
      "12:00 PM - 1:00 PM: Lunch break and exercise (Get fit and healthy objective)\n",
      "1:00 PM - 2:30 PM: Electromagnetics (Kinesthetic learning - building and testing circuits)\n",
      "2:30 PM - 4:00 PM: Signal Processing (Visual learning - using graphing software and diagrams)\n",
      "4:00 PM - 5:00 PM: Revision for all subjects\n",
      "5:00 PM - 6:00 PM: Dinner break\n",
      "6:00 PM - 8:00 PM: Robotics Club meeting (Extracurricular activity)\n",
      "8:00 PM - 10:00 PM: Free time for relaxation and personal commitments\n",
      "\n",
      "Tuesday:\n",
      "\n",
      "9:00 AM - 10:30 AM: Digital Logic Design (Visual learning - creating diagrams and flowcharts)\n",
      "10:30 AM - 12:00 PM: Circuit Analysis (Kinesthetic learning - hands-on activities and experiments)\n",
      "12:00 PM - 1:00 PM: Lunch break and\n"
     ]
    }
   ],
   "source": [
    "from langchain.llms import OpenAI\n",
    "from langchain.chains import LLMChain\n",
    "\n",
    "llm=OpenAI(temperature=0.7)\n",
    "chain=LLMChain(llm=llm,prompt=prompt)\n",
    "studyplan = chain.invoke(student1_details)\n",
    "print(studyplan['text'])"
   ]
  }
 ],
 "metadata": {
  "kernelspec": {
   "display_name": "Python 3",
   "language": "python",
   "name": "python3"
  },
  "language_info": {
   "codemirror_mode": {
    "name": "ipython",
    "version": 3
   },
   "file_extension": ".py",
   "mimetype": "text/x-python",
   "name": "python",
   "nbconvert_exporter": "python",
   "pygments_lexer": "ipython3",
   "version": "3.10.2"
  }
 },
 "nbformat": 4,
 "nbformat_minor": 2
}
